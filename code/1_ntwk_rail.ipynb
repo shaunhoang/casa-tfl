{
 "cells": [
  {
   "cell_type": "code",
   "execution_count": null,
   "id": "085b1488",
   "metadata": {},
   "outputs": [],
   "source": [
    "import pandas as pd\n",
    "import numpy as np\n",
    "import geopandas as gpd\n",
    "import networkx as nx\n",
    "import os\n",
    "import matplotlib.pyplot as plt\n",
    "from matplotlib.pyplot import cm\n",
    "import json\n",
    "import re\n",
    "from shapely.geometry import Point, LineString\n",
    "from scipy.spatial import distance"
   ]
  },
  {
   "cell_type": "markdown",
   "id": "5ac3de4d",
   "metadata": {},
   "source": [
    "### Load London Underground shapefile data"
   ]
  },
  {
   "cell_type": "code",
   "execution_count": null,
   "id": "f81b89fb",
   "metadata": {},
   "outputs": [],
   "source": [
    "#read in the data using geopandas\n",
    "stations = gpd.read_file('data/raw/tfl/tfl_stations.json')\n",
    "lines = gpd.read_file('data/raw/tfl/tfl_lines.json')"
   ]
  },
  {
   "cell_type": "code",
   "execution_count": null,
   "id": "db9311ee",
   "metadata": {},
   "outputs": [],
   "source": [
    "#project data to British National Grid\n",
    "#we do this so we can work in meters\n",
    "stations = stations.to_crs(epsg = 27700)\n",
    "lines = lines.to_crs(epsg = 27700)"
   ]
  },
  {
   "cell_type": "markdown",
   "id": "61c4c5a0",
   "metadata": {},
   "source": [
    "### Clean station names\n",
    "\n",
    "Simplify names using RegEx make the names consistent. For stations with multiple rows, set the coordinate of these stations to the mean values of the coordinates of the rest"
   ]
  },
  {
   "cell_type": "code",
   "execution_count": null,
   "id": "5daae6da",
   "metadata": {},
   "outputs": [],
   "source": [
    "#get all station names, put in a dict together with their id\n",
    "station_names = {row.id: row['name'] for i, row in stations.iterrows()}"
   ]
  },
  {
   "cell_type": "code",
   "execution_count": null,
   "id": "5cd5acb6",
   "metadata": {},
   "outputs": [],
   "source": [
    "#clean station names\n",
    "for k, v in station_names.items():\n",
    "    if k == 'none':\n",
    "        continue\n",
    "    cleaned_name = re.sub('\\sLU\\s?|\\sLO\\s?|\\sNR\\s?|\\sTf[lL]\\s?|\\sDLR\\s?|\\s\\(.*\\)', '', v)\n",
    "    \n",
    "    #combine bank and monument in TfL numbat\n",
    "    if cleaned_name in ['Bank', 'Monument']:\n",
    "        cleaned_name = 'Bank and Monument'\n",
    "    station_names[k] = cleaned_name\n",
    "    \n",
    "stations['name'] = stations['id'].apply(lambda x: station_names[x])"
   ]
  },
  {
   "cell_type": "markdown",
   "id": "94d203df",
   "metadata": {},
   "source": [
    "**Change position of station to mean of all station with the same name**"
   ]
  },
  {
   "cell_type": "code",
   "execution_count": null,
   "id": "5bcb3ec0",
   "metadata": {},
   "outputs": [],
   "source": [
    "#get position of stations as mean of x, y of stations\n",
    "\n",
    "#create empty dict to store list of coordinates\n",
    "pos = {}\n",
    "\n",
    "#iterate through the stations\n",
    "for i, station in stations.iterrows():\n",
    "    xy = station.geometry.coords[0]\n",
    "    \n",
    "    #if station already in dict add coordinate to coordinate list\n",
    "    if station['name'] in pos.keys():\n",
    "        pos[station['name']].extend([xy])\n",
    "    #if station is not in the dict add station to dict and set first coordinate in list\n",
    "    else:\n",
    "        pos[station['name']] = [xy]\n",
    "\n",
    "#iterate through our dict and replace coordinate list with mean value\n",
    "for k, v in pos.items():\n",
    "    #we set axis to 0 to make sure to take mean of x and y coordinates\n",
    "    pos[k] = np.mean(v, axis=0)"
   ]
  },
  {
   "cell_type": "code",
   "execution_count": null,
   "id": "4b5a692b",
   "metadata": {},
   "outputs": [],
   "source": [
    "#set new geometry\n",
    "stations['geometry'] = stations['name'].apply(lambda x: Point(pos[x]))"
   ]
  },
  {
   "cell_type": "markdown",
   "id": "a346ea38",
   "metadata": {},
   "source": [
    "### Clean line names"
   ]
  },
  {
   "cell_type": "markdown",
   "id": "e407d47c",
   "metadata": {},
   "source": [
    "One geometry can represent multiple lines. Let's work each line seperately"
   ]
  },
  {
   "cell_type": "code",
   "execution_count": null,
   "id": "1f654037",
   "metadata": {},
   "outputs": [],
   "source": [
    "#get all line types as a list and subset geoms by lines\n",
    "line_names  = lines.lines.apply(lambda x: [x['name'] for x in json.loads(x)])\n",
    "line_names = list(set([item for sublist in line_names for item in sublist]))\n",
    "line_names"
   ]
  },
  {
   "cell_type": "code",
   "execution_count": null,
   "id": "42dccbb2",
   "metadata": {},
   "outputs": [],
   "source": [
    "#We can see that east london line is incomplete\n",
    "#digging into this however we notice that it's because east london is actually part of the overground\n",
    "#merge East London line and London Overground since they are one line\n",
    "lines.lines = lines.lines.str.replace('East London', 'London Overground')\n",
    "stations.lines = stations.lines.str.replace('East London', 'London Overground')\n",
    "\n",
    "# Change Crossrail to Elizabeth, exact match replacement\n",
    "lines.lines = lines.lines.str.replace('Crossrail', 'Elizabeth')\n",
    "stations.lines = stations.lines.str.replace('Crossrail', 'Elizabeth')\n",
    "\n",
    "# Change TfL Rail to Elizabeth, exact match replacement\n",
    "lines.lines = lines.lines.str.replace('TfL Rail', 'Elizabeth')\n",
    "stations.lines = stations.lines.str.replace('TfL Rail', 'Elizabeth')\n",
    "\n",
    "# Change TfL Rail to Elizabeth, exact match replacement\n",
    "lines.lines = lines.lines.str.replace('Elizabeth 2', 'CR2')\n",
    "stations.lines = stations.lines.str.replace('Elizabeth 2', 'CR2')\n"
   ]
  },
  {
   "cell_type": "code",
   "execution_count": null,
   "id": "9c2cfa66",
   "metadata": {},
   "outputs": [],
   "source": [
    "#get all line types as a list and subset geoms by lines after change\n",
    "line_names  = lines.lines.apply(lambda x: [x['name'] for x in json.loads(x)])\n",
    "line_names = list(set([item for sublist in line_names for item in sublist]))\n",
    "line_names"
   ]
  },
  {
   "cell_type": "code",
   "execution_count": null,
   "id": "5b9bd826",
   "metadata": {},
   "outputs": [],
   "source": [
    "#exclude the lines that we are not going to use\n",
    "excluded_lines = ['Thameslink 6tph line', 'East London', 'CR2', 'Emirates Air Line', 'Tramlink', 'TfL Rail']"
   ]
  },
  {
   "cell_type": "code",
   "execution_count": null,
   "id": "e44fc774",
   "metadata": {},
   "outputs": [],
   "source": [
    "#create an empty dict to hold our geometric graphs\n",
    "geometric_graphs = {}\n",
    "\n",
    "#iterate through each line individually\n",
    "for line_name in line_names:\n",
    "    #skip lines that we won't be using\n",
    "    if line_name in excluded_lines :\n",
    "        continue\n",
    "    print(line_name)\n",
    "    \n",
    "    #subset our line and station files for the ones the belong to a specific line\n",
    "    temp_lines = lines[lines.lines.str.contains(line_name)]\n",
    "    temp_stations = stations[stations.lines.str.contains(line_name)]\n",
    "    \n",
    "    #create empty graph\n",
    "    G= nx.Graph()\n",
    "    \n",
    "    #iterate through our line geometries\n",
    "    for i, line in temp_lines.iterrows():\n",
    "        #get list of coordinates that define our line\n",
    "        _l = list(line.geometry.coords)\n",
    "\n",
    "        #add coordinates as edges\n",
    "        G.add_edges_from(list(zip(_l,_l[1:])))\n",
    "    \n",
    "    #remove any self loops\n",
    "    G.remove_edges_from(nx.selfloop_edges(G))\n",
    "    \n",
    "    #the position of the node is the name of the node\n",
    "    #let's extract this to plot our graph\n",
    "    pos = {n: n for n in G.nodes()}\n",
    "    \n",
    "    # get degree one nodes\n",
    "    D = nx.degree(G)\n",
    "    k1 = [node for node,degree in D if degree==1]\n",
    "    #let's plot our graph and all degree one nodes\n",
    "    # nx.draw(G, pos=pos, node_size=0.5, node_color='grey')\n",
    "    # nx.draw_networkx_nodes(G, pos=pos, nodelist=k1, node_color='red', node_size=8)\n",
    "    # plt.show()\n",
    "    \n",
    "    #get distance between all points of 1-degree, this will be a matrix\n",
    "    dist = distance.cdist(k1, k1)\n",
    "    \n",
    "    #add edges between points that are close\n",
    "    for j in range(dist.shape[0]-1):\n",
    "        temp = dist[j][j+1:]\n",
    "        #get index of closest node\n",
    "        i_min = np.argmin(temp)\n",
    "        if dist[j][i_min+j+1]<50:\n",
    "            G.add_edge(k1[j],k1[i_min+j+1])\n",
    "    \n",
    "    #recalculate degree\n",
    "    D = nx.degree(G)\n",
    "    k1 = [node for node,degree in D if degree==1]\n",
    "    #plot new graph\n",
    "    # nx.draw(G, pos=pos, node_size=0.5, node_color='grey')\n",
    "    # nx.draw_networkx_nodes(G, pos=pos, nodelist=k1, node_color='red', node_size=8)\n",
    "    # plt.show()\n",
    "    print(nx.number_connected_components(G))\n",
    "    #store graph in dictionary\n",
    "    geometric_graphs[line_name] = G\n"
   ]
  },
  {
   "cell_type": "code",
   "execution_count": null,
   "id": "0f6400cb",
   "metadata": {},
   "outputs": [],
   "source": [
    "#create a dataframe with all geometries from all valid lines\n",
    "#this list will contain a dictionary for each edge in our graph that contains\n",
    "# node pairs, line name, and a geometry (this is just for quick visualization purposes and will be replaced by true geometry)\n",
    "edge_list = []\n",
    "def _has_ids(k):\n",
    "    #helper function to check if line contains id of start and end station\n",
    "    if ('start_sid' in k.keys()) and ('end_sid' in k.keys()):\n",
    "        return True\n",
    "    else:\n",
    "        return False\n",
    "\n",
    "#iterate through each line seperately \n",
    "for line_name in line_names:\n",
    "    if line_name in excluded_lines :\n",
    "        continue\n",
    "        \n",
    "    #subset lines and stations\n",
    "    temp_lines = lines[lines.lines.str.contains(line_name)]\n",
    "    temp_stations = stations[stations.lines.str.contains(line_name)]\n",
    "    \n",
    "    #for each line in our subset dataframe get each origin and destination pair\n",
    "    for i, line in temp_lines.iterrows():\n",
    "        for k in json.loads(line.lines):\n",
    "            if k['name'] == line_name:\n",
    "                if _has_ids(k):\n",
    "                    \n",
    "                    #get start and end station ids\n",
    "                    start_id = k['start_sid']\n",
    "                    end_id = k['end_sid']\n",
    "\n",
    "                    #get info of start and end station\n",
    "                    start_station = temp_stations[(temp_stations.id == start_id) | (temp_stations.altmodeid == start_id)].values\n",
    "                    end_station = temp_stations[(temp_stations.id == end_id) | (temp_stations.altmodeid == end_id)].values\n",
    "                    \n",
    "                    #if no matching station exist, let's just take the starting and ending coordinate of the line for now\n",
    "                    if len(start_station) >= 1 and len(end_station) >=1:\n",
    "                        s_geom = start_station[0][-1].coords[0]\n",
    "                        e_geom = end_station[0][-1].coords[0]\n",
    "                        edge_list.append({\n",
    "                            'line_name': line_name,\n",
    "                            'start_id': start_id,\n",
    "                            'end_id': end_id,\n",
    "                            'geometry': LineString([s_geom, e_geom])\n",
    "                        })"
   ]
  },
  {
   "cell_type": "code",
   "execution_count": null,
   "id": "f979e46c",
   "metadata": {
    "scrolled": true
   },
   "outputs": [],
   "source": [
    "#turn our dictionary list into a geopandas df to quickly plot and sanity check our work\n",
    "edge_gdf = gpd.GeoDataFrame(edge_list)\n",
    "edge_gdf.crs = lines.crs"
   ]
  },
  {
   "cell_type": "code",
   "execution_count": null,
   "id": "6fc6641b",
   "metadata": {},
   "outputs": [],
   "source": [
    "### Add geometry information back into the graph\n",
    "for line_name in line_names:\n",
    "    if line_name in excluded_lines :\n",
    "        continue\n",
    "    temp_lines = edge_gdf[edge_gdf.line_name == line_name]\n",
    "    temp_stations = stations[stations.lines.str.contains(line_name)]\n",
    "    \n",
    "    # #let's plot our lines so we can check them\n",
    "    # fig, ax = plt.subplots(figsize = (7,7))\n",
    "    # fig.suptitle(f'line: {line_name}')\n",
    "    # ax.set_aspect(\"equal\")\n",
    "    # ax.axis('off')\n",
    "    # ax.margins(0.1)\n",
    "    \n",
    "    # base = temp_lines.plot(ax=ax, color='grey')\n",
    "    # temp_stations.plot(ax=base, markersize=20, color='red')\n",
    "    # plt.show()\n",
    "    \n",
    "    #add real geometry back\n",
    "    for i, edge in temp_lines.iterrows():\n",
    "        #get start and end of line coordinates\n",
    "        start = edge.geometry.coords[0]\n",
    "        end = edge.geometry.coords[-1]\n",
    "        \n",
    "        #let's get all the coordinates in our geometric graph\n",
    "        nodes = list(geometric_graphs[line_name].nodes)\n",
    "        \n",
    "        #find nearest node in graph to origin and destination\n",
    "        s_dist = distance.cdist([start], nodes)[0]\n",
    "        s_i = np.argmin(s_dist)\n",
    "        source= nodes[s_i]\n",
    "        \n",
    "        t_dist = distance.cdist([end], nodes)[0]\n",
    "        t_i = np.argmin(t_dist)\n",
    "        target= nodes[t_i]\n",
    "        \n",
    "        #get shortest path\n",
    "        sp = nx.shortest_path(geometric_graphs[line_name], source, target)\n",
    "        \n",
    "        #make into geometry\n",
    "        #notice how I'm also adding the start and end coordinates to the line definition\n",
    "        #this fixes the problem of stations and lines not matching up\n",
    "        geometry = LineString([start] + sp + [end])\n",
    "        edge_gdf.loc[i, 'geometry'] = geometry"
   ]
  },
  {
   "cell_type": "code",
   "execution_count": null,
   "id": "ee4369d0",
   "metadata": {},
   "outputs": [],
   "source": [
    "#let's store the length of the real geometry\n",
    "edge_gdf['length'] = edge_gdf.geometry.length"
   ]
  },
  {
   "cell_type": "code",
   "execution_count": null,
   "id": "0a8215ef",
   "metadata": {},
   "outputs": [],
   "source": [
    "#let's replace the ids with the actual name\n",
    "#get all station names\n",
    "station_names_2 = {row.altmodeid: row['name'] for i, row in stations.iterrows() if row.altmodeid != None}\n",
    "station_names.update(station_names_2)"
   ]
  },
  {
   "cell_type": "code",
   "execution_count": null,
   "id": "0bcd81c4",
   "metadata": {},
   "outputs": [],
   "source": [
    "edge_gdf['start_id'] = edge_gdf['start_id'].apply(lambda x: station_names[x])\n",
    "edge_gdf['end_id'] = edge_gdf['end_id'].apply(lambda x: station_names[x])"
   ]
  },
  {
   "cell_type": "code",
   "execution_count": null,
   "id": "c019a008",
   "metadata": {},
   "outputs": [],
   "source": [
    "#now we can use this to create our network!\n",
    "G = nx.from_pandas_edgelist(edge_gdf, source = 'start_id', target='end_id', edge_attr=['length', 'line_name'])"
   ]
  },
  {
   "cell_type": "code",
   "execution_count": null,
   "id": "2ede2d09",
   "metadata": {},
   "outputs": [],
   "source": [
    "#let's plot\n",
    "#notice that even though we created the real geometries, the graph still plots just straight line\n",
    "#this is because networkx doesn't have a concept of a edge geometry\n",
    "#however this is ok, since we only need the distance as weights, and that is already an attribute in our graph\n",
    "pos = {row['name']: row.geometry.coords[0] for i, row in stations.iterrows() if row['name'] in G.nodes()}\n",
    "Gcc = nx.connected_components(G)\n",
    "for n in Gcc:\n",
    "    G_sub = G.subgraph(n)\n",
    "    lines = [data['line_name'] for u,v, data in G_sub.edges(data=True)]\n",
    "    print(set(lines))\n",
    "    nx.draw(G_sub, pos, node_size=4)\n",
    "    plt.show()"
   ]
  },
  {
   "cell_type": "code",
   "execution_count": null,
   "id": "e8693025",
   "metadata": {},
   "outputs": [],
   "source": [
    "#save position to graph\n",
    "nx.set_node_attributes(G, pos, 'coords')"
   ]
  },
  {
   "cell_type": "markdown",
   "id": "a9b746db",
   "metadata": {},
   "source": [
    "# Centrality Measures\n",
    "\n",
    "Use degree, betweenness, closeness (topological) and katz "
   ]
  },
  {
   "cell_type": "code",
   "execution_count": null,
   "id": "fe0eb4e0",
   "metadata": {},
   "outputs": [],
   "source": [
    "# Degree centrality is a measure of the number of edges that a node has in the network. \n",
    "# It is a measure of how well connected a node is in the network.\n",
    "deg_london =nx.degree_centrality(G)\n",
    "nx.set_node_attributes(G,dict(deg_london),'degree')\n",
    "\n",
    "# Betweenness centrality is a measure of how many times a node lies on the shortest path between other nodes in the network.\n",
    "bet_london_t=nx.betweenness_centrality(G, normalized=False)\n",
    "nx.set_node_attributes(G,bet_london_t,'betweenness_t')\n",
    "\n",
    "# Closeness centrality is a measure of how close a node is to all other nodes in the network.\n",
    "clo_london_t=nx.closeness_centrality(G)\n",
    "nx.set_node_attributes(G,clo_london_t,'closeness_t')"
   ]
  },
  {
   "cell_type": "code",
   "execution_count": null,
   "id": "7d2b6ccb",
   "metadata": {},
   "outputs": [],
   "source": [
    "# Combine all the centrality measures into one dataframe\n",
    "df = pd.DataFrame()\n",
    "df['station_name'] = pd.Series(nx.get_node_attributes(G, 'station_name'))\n",
    "df.set_index('station_name', inplace=True)  # Set 'station_name' as the index\n",
    "df['degree'] = pd.Series(nx.get_node_attributes(G, 'degree'))\n",
    "df['betweenness'] = pd.Series(nx.get_node_attributes(G, 'betweenness_t'))\n",
    "df['closeness'] = pd.Series(nx.get_node_attributes(G, 'closeness_t'))\n",
    "\n",
    "df.reset_index(inplace=True)\n",
    "df_sorted = df.sort_values([\"closeness_t\"], ascending=False)\n",
    "df_sorted[0:15]"
   ]
  },
  {
   "cell_type": "code",
   "execution_count": null,
   "id": "6e1cd4c6",
   "metadata": {},
   "outputs": [],
   "source": [
    "# get geometry of the stations by station_name in df_sorted\n",
    "df_sorted['geometry'] = df_sorted['station_name'].apply(lambda x: stations[stations['name'] == x].geometry.values[0])\n",
    "df_sorted = gpd.GeoDataFrame(df_sorted, geometry='geometry')\n",
    "df_sorted.crs = stations.crs\n",
    "df_sorted"
   ]
  },
  {
   "cell_type": "code",
   "execution_count": null,
   "id": "5520fe7e",
   "metadata": {},
   "outputs": [],
   "source": [
    "# convert to hexagon resolution 9 using h3\n",
    "import h3\n",
    "import h3pandas\n",
    "\n",
    "df = df_sorted.copy()\n",
    "df.to_crs(epsg=4326, inplace=True)\t\n",
    "df = df.h3.geo_to_h3(resolution=8)\n",
    "df = df.h3.h3_to_geo_boundary()\n",
    "df.explore()\n"
   ]
  },
  {
   "cell_type": "code",
   "execution_count": null,
   "id": "b7e8d33c",
   "metadata": {},
   "outputs": [],
   "source": [
    "df.to_crs(epsg=27700, inplace=True)\t"
   ]
  },
  {
   "cell_type": "code",
   "execution_count": null,
   "id": "f3b0561b",
   "metadata": {},
   "outputs": [],
   "source": [
    "df.to_file(os.path.join('data','cleaned','rail_cent_h3_r8.gpkg'), driver='GPKG')"
   ]
  },
  {
   "cell_type": "code",
   "execution_count": null,
   "id": "3701b6fb",
   "metadata": {},
   "outputs": [],
   "source": [
    "# how to export networkx.classes.graph.Graph to graphml\n",
    "import pickle\n",
    "with open(os.path.join('data','cleaned','rail_networkx_graph.pickle'), 'wb') as f:\n",
    "    pickle.dump(G, f)"
   ]
  },
  {
   "cell_type": "code",
   "execution_count": null,
   "id": "553bc699",
   "metadata": {},
   "outputs": [],
   "source": [
    "# # # load gpickle file\n",
    "# with open(os.path.join('data','cleaned','rail_networkx_graph.pickle'), 'rb') as input:\n",
    "#     Ga = pickle.load(input)\n",
    "\n",
    "# nx.draw(Ga, pos, node_size=4)"
   ]
  }
 ],
 "metadata": {
  "kernelspec": {
   "display_name": "Python 3",
   "language": "python",
   "name": "python3"
  },
  "language_info": {
   "codemirror_mode": {
    "name": "ipython",
    "version": 3
   },
   "file_extension": ".py",
   "mimetype": "text/x-python",
   "name": "python",
   "nbconvert_exporter": "python",
   "pygments_lexer": "ipython3",
   "version": "3.12.0"
  }
 },
 "nbformat": 4,
 "nbformat_minor": 5
}
