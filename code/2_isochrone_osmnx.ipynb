{
 "cells": [
  {
   "cell_type": "code",
   "execution_count": 1,
   "metadata": {},
   "outputs": [],
   "source": [
    "import pandas as pd\n",
    "import geopandas as gpd\n",
    "import h3\n",
    "import os\n",
    "import matplotlib.pyplot as plt\n",
    "import networkx as nx\n",
    "import osmnx as ox\n",
    "# !pip install descartes\n",
    "import descartes\n",
    "from descartes import PolygonPatch\n",
    "from shapely.geometry import Point, LineString, Polygon"
   ]
  },
  {
   "cell_type": "code",
   "execution_count": 2,
   "metadata": {},
   "outputs": [],
   "source": [
    "# import poi_pop_h3 file\n",
    "poi_pop_h3 = gpd.read_file(os.path.join('data','cleaned','poi_pop_h3_r10.geojson'))\n",
    "# import exit flow data\n",
    "flow_bus = gpd.read_file(os.path.join('data','cleaned','flow_bus_byStop.geojson'))\n",
    "flow_rail = gpd.read_file(os.path.join('data','cleaned','flow_rail.geojson'))"
   ]
  },
  {
   "cell_type": "markdown",
   "metadata": {},
   "source": [
    "# Preparations for isochrones"
   ]
  },
  {
   "cell_type": "markdown",
   "metadata": {},
   "source": [
    "Prep the network"
   ]
  },
  {
   "cell_type": "code",
   "execution_count": 3,
   "metadata": {},
   "outputs": [],
   "source": [
    "## Takes 12 minutes\n",
    "\n",
    "# load the street network in Greater London\n",
    "G = ox.graph_from_place('Greater London, UK', network_type='walk')\n",
    "G = ox.project_graph(G, to_crs='EPSG:27700') # Project graph to British National Grid\n",
    "\n",
    "# export the graph to local as graphml\n",
    "ox.io.save_graphml(G, filepath=os.path.join('data','cleaned','G.graphml'))"
   ]
  },
  {
   "cell_type": "code",
   "execution_count": 4,
   "metadata": {},
   "outputs": [],
   "source": [
    "# load graph from graphml\n",
    "G = ox.io.load_graphml(os.path.join('data','cleaned','G.graphml'))"
   ]
  },
  {
   "cell_type": "code",
   "execution_count": 5,
   "metadata": {},
   "outputs": [],
   "source": [
    "# plot the graph\n",
    "fig, ax = ox.plot_graph(G, node_size=0, edge_linewidth=0.5, bgcolor='w', show=False, close=False)"
   ]
  },
  {
   "cell_type": "markdown",
   "metadata": {},
   "source": [
    "Functions to find isochrone from single point"
   ]
  },
  {
   "cell_type": "code",
   "execution_count": 6,
   "metadata": {},
   "outputs": [],
   "source": [
    "# Function to get isochrone polygons from a center node on a graph\n",
    "def make_iso_polys(G, center_node, edge_buff=25, node_buff=50):\n",
    "    # isochrone_polys = []\n",
    "    for trip_time in sorted(trip_times, reverse=True):\n",
    "        subgraph = nx.ego_graph(G, center_node, radius=trip_time, distance='time')\n",
    "\n",
    "        node_points = [Point((data['x'], data['y'])) for node, data in subgraph.nodes(data=True)]\n",
    "        nodes_gdf = gpd.GeoDataFrame({'id': subgraph.nodes()}, geometry=node_points)\n",
    "        nodes_gdf = nodes_gdf.set_index('id')\n",
    "\n",
    "        edge_lines = []\n",
    "        for n_fr, n_to in subgraph.edges():\n",
    "            f = nodes_gdf.loc[n_fr].geometry\n",
    "            t = nodes_gdf.loc[n_to].geometry\n",
    "            edge_lookup = G.get_edge_data(n_fr, n_to)[0].get('geometry',  LineString([f,t]))\n",
    "            edge_lines.append(edge_lookup)\n",
    "\n",
    "        n = nodes_gdf.buffer(node_buff).geometry\n",
    "        e = gpd.GeoSeries(edge_lines).buffer(edge_buff).geometry\n",
    "        all_gs = list(n) + list(e)\n",
    "        isochrone_polys = gpd.GeoSeries(all_gs).unary_union\n",
    "    \n",
    "    return isochrone_polys\n",
    "\n",
    "# Wrapper Function to get isochrone from a point geometry\n",
    "def get_isochrone_walk(point):\n",
    "    \n",
    "    global G\n",
    "    x, y = point.x, point.y # Define point coords\n",
    "    center_node = ox.nearest_nodes(G, x, y) # Find center node\n",
    "\n",
    "    # get the isochrone polygons\n",
    "    isochrone_polys = make_iso_polys(G, center_node, edge_buff=25, node_buff=0)\n",
    "    \n",
    "    return isochrone_polys\n",
    "\n",
    "# Wrapper Function to plot isochrone\n",
    "def plot_isochrone(point):\n",
    "\n",
    "    global G\n",
    "    x, y = point.x, point.y # Define point coords\n",
    "    center_node = ox.nearest_nodes(G, x, y) # Find center node\n",
    "\n",
    "    # get the isochrone polygons\n",
    "    isochrone_polys = make_iso_polys(G, center_node, edge_buff=25, node_buff=0)\n",
    "\n",
    "    # plot it\n",
    "    iso_colors = ox.plot.get_colors(n=len(trip_times), cmap='plasma', start=0)\n",
    "    fig, ax = ox.plot_graph(G, show=False, close=False, edge_color='#999999', edge_alpha=0.2,node_size=0, bgcolor='k')\n",
    "    for polygon, fc in zip(isochrone_polys, iso_colors):\n",
    "        patch = PolygonPatch(polygon, fc=fc, ec='none', alpha=0.6, zorder=-1)\n",
    "        ax.add_patch(patch)\n",
    "    plt.show()"
   ]
  },
  {
   "cell_type": "markdown",
   "metadata": {},
   "source": [
    "# ISOCHRONE FOR RAIL"
   ]
  },
  {
   "cell_type": "code",
   "execution_count": 7,
   "metadata": {},
   "outputs": [],
   "source": [
    "# import exit flow data\n",
    "flow_rail = gpd.read_file(os.path.join('data','cleaned','flow_rail.geojson'))"
   ]
  },
  {
   "cell_type": "code",
   "execution_count": 8,
   "metadata": {},
   "outputs": [],
   "source": [
    "%%time \n",
    "\n",
    "# configure the place, network type, trip times, and travel speed\n",
    "network_type = 'walk'\n",
    "trip_times = [10] #in minutes\n",
    "travel_speed = 5 #walking speed in km/hour\n",
    "\n",
    "# takes a while to run 4.6/stop\n",
    "# add isochrone polygons to flow_rail\n",
    "flow_rail['isochrone'] = flow_rail.geometry.apply(get_isochrone_walk)\n",
    "flow_rail = gpd.GeoDataFrame(flow_rail, geometry='isochrone', crs='EPSG:27700').drop(columns='geometry') # convert to geodataframe and drop the old geometry column"
   ]
  },
  {
   "cell_type": "code",
   "execution_count": null,
   "metadata": {},
   "outputs": [],
   "source": [
    "flow_rail.to_file(os.path.join('data','cleaned','rail_isochrone.gpkg'), driver='GPKG')"
   ]
  },
  {
   "cell_type": "markdown",
   "metadata": {},
   "source": [
    "# ISOCHRONES FOR BUS"
   ]
  },
  {
   "cell_type": "code",
   "execution_count": 10,
   "metadata": {},
   "outputs": [],
   "source": [
    "# import exit flow data (Bus)\n",
    "flow_bus = gpd.read_file(os.path.join('data','cleaned','flow_bus_byStop.geojson'), driver='GeoJSON', crs='EPSG:27700')\n",
    "flow_bus.explore()"
   ]
  },
  {
   "cell_type": "code",
   "execution_count": 11,
   "metadata": {},
   "outputs": [],
   "source": [
    "# split the flow_bus dataset into chunks of 1000 rows\n",
    "flow_bus_chunks = [flow_bus[i:i+1000] for i in range(0, flow_bus.shape[0], 1000)]\n",
    "\n",
    "# configure the place, network type, trip times, and travel speed\n",
    "network_type = 'walk'\n",
    "trip_times = [10] #in minutes\n",
    "travel_speed = 5 #walking speed in km/hour\n",
    "\n",
    "for i, chunk in enumerate(flow_bus_chunks):\n",
    "    chunk['isochrone'] = chunk.geometry.apply(get_isochrone_walk)\n",
    "    chunk = gpd.GeoDataFrame(chunk, geometry='isochrone', crs='EPSG:27700').drop(columns='geometry') # convert to geodataframe and drop the old geometry column\n",
    "    chunk.to_file(os.path.join('data','cleaned','bus_isochrone','bus_isochrone_{}.geojson'.format(i)), driver='GeoJSON')"
   ]
  },
  {
   "cell_type": "code",
   "execution_count": 12,
   "metadata": {},
   "outputs": [],
   "source": [
    "# import all the flow_bus_isochrone datasets from files into a list\n",
    "bus_isochrone_list = []\n",
    "for i in range(0, 20):\n",
    "    bus_isochrone_list.append(gpd.read_file(os.path.join('data','cleaned','bus_isochrone','bus_isochrone_{}.geojson'.format(i))))\n",
    "\n",
    "# concatenate all the flow_bus_isochrone datasets into one\n",
    "bus_isochrone = pd.concat(bus_isochrone_list)\n",
    "bus_isochrone.reset_index(inplace=True,drop=True)\n",
    "bus_isochrone.info()"
   ]
  },
  {
   "cell_type": "code",
   "execution_count": 13,
   "metadata": {},
   "outputs": [],
   "source": [
    "# save the flow_bus_isochrone dataset to fileb\n",
    "bus_isochrone.to_file(os.path.join('data','cleaned','bus_isochrone.gpkg'), driver='GPKG')"
   ]
  }
 ],
 "metadata": {
  "kernelspec": {
   "display_name": "Python 3",
   "language": "python",
   "name": "python3"
  },
  "language_info": {
   "codemirror_mode": {
    "name": "ipython",
    "version": 3
   },
   "file_extension": ".py",
   "mimetype": "text/x-python",
   "name": "python",
   "nbconvert_exporter": "python",
   "pygments_lexer": "ipython3",
   "version": "3.12.0"
  }
 },
 "nbformat": 4,
 "nbformat_minor": 2
}
