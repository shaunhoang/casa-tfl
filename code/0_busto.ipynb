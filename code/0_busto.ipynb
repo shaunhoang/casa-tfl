{
 "cells": [
  {
   "cell_type": "code",
   "execution_count": 1,
   "metadata": {},
   "outputs": [],
   "source": [
    "import pandas as pd\n",
    "import geopandas as gpd\n",
    "import numpy as np\n",
    "import os\n",
    "import matplotlib.pyplot as plt\n",
    "import imageio.v2 as imageio\n",
    "import osmnx as ox \n",
    "from shapely.geometry import Point, LineString"
   ]
  },
  {
   "cell_type": "markdown",
   "metadata": {},
   "source": [
    "Read bus stop location data"
   ]
  },
  {
   "cell_type": "code",
   "execution_count": 15,
   "metadata": {},
   "outputs": [
    {
     "name": "stdout",
     "output_type": "stream",
     "text": [
      "<class 'geopandas.geodataframe.GeoDataFrame'>\n",
      "RangeIndex: 21540 entries, 0 to 21539\n",
      "Data columns (total 5 columns):\n",
      " #   Column       Non-Null Count  Dtype   \n",
      "---  ------       --------------  -----   \n",
      " 0   STOP_CODE    21540 non-null  object  \n",
      " 1   STOP_NAME    21517 non-null  object  \n",
      " 2   OS_EASTING   21540 non-null  float64 \n",
      " 3   OS_NORTHING  21540 non-null  float64 \n",
      " 4   geometry     21540 non-null  geometry\n",
      "dtypes: float64(2), geometry(1), object(2)\n",
      "memory usage: 841.5+ KB\n"
     ]
    }
   ],
   "source": [
    "# 1. read bus stops geojson\n",
    "bus_stops = gpd.read_file('data/raw/tfl/Bus_Stops.geojson')\n",
    "bus_stops = bus_stops.to_crs(epsg=27700)\n",
    "bus_stops['STOP_CODE'] = bus_stops['STOP_CODE'].astype(str).str.strip() # CONVERT STOP_CODE TO STR\n",
    "\n",
    "# 2. load bus stop data\n",
    "bus_stops1 = pd.read_csv('data/raw/tfl/bus-stops.csv')\n",
    "bus_stops1['Bus_Stop_Code'] = bus_stops1['Bus_Stop_Code'].astype(str).str.strip() # CONVERT STOP_CODE TO STR\n",
    "\n",
    "# combine bus_stops and bus_stops1 with stop_code\n",
    "bus_stops = bus_stops.merge(bus_stops1, left_on='STOP_CODE', right_on='Stop_Code_LBSL', how='outer')\n",
    "\n",
    "# fill stop_code with Stop_Code_LBSL\n",
    "bus_stops['STOP_CODE'] = bus_stops['STOP_CODE'].fillna(bus_stops['Stop_Code_LBSL'])\n",
    "bus_stops['STOP_NAME'] = bus_stops['STOP_NAME'].fillna(bus_stops['Stop_Name'])\n",
    "bus_stops['OS_EASTING'] = bus_stops['OS_EASTING'].fillna(bus_stops['Location_Easting'])\n",
    "bus_stops['OS_NORTHING'] = bus_stops['OS_NORTHING'].fillna(bus_stops['Location_Northing'])\n",
    "bus_stops['geometry'] = [Point(x, y) for x, y in zip(bus_stops['OS_EASTING'], bus_stops['OS_NORTHING'])]\n",
    "\n",
    "# filter to necessary columns\n",
    "bus_stops = bus_stops[['STOP_CODE', 'STOP_NAME', 'OS_EASTING', 'OS_NORTHING','geometry']]\n",
    "bus_stops = gpd.GeoDataFrame(bus_stops, geometry='geometry', crs='epsg:27700')\n",
    "bus_stops.info()"
   ]
  },
  {
   "cell_type": "markdown",
   "metadata": {},
   "source": [
    "Read BUSTO data"
   ]
  },
  {
   "cell_type": "code",
   "execution_count": 11,
   "metadata": {},
   "outputs": [
    {
     "name": "stdout",
     "output_type": "stream",
     "text": [
      "<class 'pandas.core.frame.DataFrame'>\n",
      "Index: 3293688 entries, 0 to 775288\n",
      "Data columns (total 15 columns):\n",
      " #   Column        Dtype  \n",
      "---  ------        -----  \n",
      " 0   YEAR          int64  \n",
      " 1   DAY_TYPE      object \n",
      " 2   TIMEBAND      int64  \n",
      " 3   QHr           object \n",
      " 4   ROUTE         object \n",
      " 5   DIRECTION     int64  \n",
      " 6   STOPCODE      object \n",
      " 7   STOPNAME      object \n",
      " 8   STOPSEQUENCE  float64\n",
      " 9   Boardings     float64\n",
      " 10  Alightings    float64\n",
      " 11  Load          float64\n",
      " 12  Capacity      float64\n",
      " 13  Seats         float64\n",
      " 14  V/C           float64\n",
      "dtypes: float64(7), int64(3), object(5)\n",
      "memory usage: 402.1+ MB\n"
     ]
    }
   ],
   "source": [
    "# import all csv file in folder\n",
    "path = os.path.join('data', 'raw', 'tfl', 'busto')\n",
    "all_files = os.listdir(path)\n",
    "all_files = [f for f in all_files if f.endswith('.csv')]\n",
    "all_files = [os.path.join(path, f) for f in all_files]\n",
    "\n",
    "# read all csv files\n",
    "dfs = []\n",
    "for f in all_files:\n",
    "    df = pd.read_csv(f)\n",
    "    dfs.append(df)\n",
    "df = pd.concat(dfs) # concat all dataframes\n",
    "df.info()"
   ]
  },
  {
   "cell_type": "markdown",
   "metadata": {},
   "source": [
    "### AGGREGATE BY STOP AND ROUTE"
   ]
  },
  {
   "cell_type": "code",
   "execution_count": 22,
   "metadata": {},
   "outputs": [
    {
     "name": "stdout",
     "output_type": "stream",
     "text": [
      "<class 'geopandas.geodataframe.GeoDataFrame'>\n",
      "RangeIndex: 219545 entries, 0 to 219544\n",
      "Data columns (total 6 columns):\n",
      " #   Column      Non-Null Count   Dtype   \n",
      "---  ------      --------------   -----   \n",
      " 0   STOPCODE    219545 non-null  object  \n",
      " 1   STOPNAME    219545 non-null  object  \n",
      " 2   ROUTE       219545 non-null  object  \n",
      " 3   TIMEBAND    219545 non-null  int64   \n",
      " 4   Alightings  219545 non-null  float64 \n",
      " 5   geometry    219492 non-null  geometry\n",
      "dtypes: float64(1), geometry(1), int64(1), object(3)\n",
      "memory usage: 10.1+ MB\n"
     ]
    }
   ],
   "source": [
    "bus_entex = df.copy()\n",
    "\n",
    "# aggregate by STOPCODE,STOPNAME,TIMEBAND, sum Alightings\n",
    "bus_entex = bus_entex.groupby(['STOPCODE', 'STOPNAME','ROUTE', 'TIMEBAND']).agg({'Alightings': 'sum'}).reset_index()\n",
    "\n",
    "# get geometry for bus_entex from bus_stops\n",
    "bus_entex= bus_entex.merge(bus_stops[['STOP_CODE', 'geometry']], left_on='STOPCODE', right_on='STOP_CODE', how='left')\n",
    "bus_entex = bus_entex.drop(columns=['STOP_CODE'])\n",
    "bus_entex = gpd.GeoDataFrame(bus_entex, geometry='geometry',crs='epsg:27700')\n",
    "bus_entex.info()"
   ]
  },
  {
   "cell_type": "markdown",
   "metadata": {},
   "source": [
    "SPLIT BY TIME BAND"
   ]
  },
  {
   "cell_type": "code",
   "execution_count": 52,
   "metadata": {},
   "outputs": [
    {
     "name": "stdout",
     "output_type": "stream",
     "text": [
      "<class 'pandas.core.frame.DataFrame'>\n",
      "RangeIndex: 50213 entries, 0 to 50212\n",
      "Data columns (total 9 columns):\n",
      " #   Column    Non-Null Count  Dtype   \n",
      "---  ------    --------------  -----   \n",
      " 0   STOPCODE  50213 non-null  object  \n",
      " 1   STOPNAME  50213 non-null  object  \n",
      " 2   ROUTE     50213 non-null  object  \n",
      " 3   geometry  50213 non-null  geometry\n",
      " 4   8         48302 non-null  float64 \n",
      " 5   9         42077 non-null  float64 \n",
      " 6   10        41752 non-null  float64 \n",
      " 7   11        41001 non-null  float64 \n",
      " 8   12        46360 non-null  float64 \n",
      "dtypes: float64(5), geometry(1), object(3)\n",
      "memory usage: 3.4+ MB\n"
     ]
    }
   ],
   "source": [
    "# pivot by time bands\n",
    "bus_entex_pivot = bus_entex.pivot_table(index=['STOPCODE','STOPNAME','ROUTE','geometry'], columns='TIMEBAND', values=['Alightings'], aggfunc='sum')\n",
    "bus_entex_pivot.columns = bus_entex_pivot.columns.droplevel()\n",
    "bus_entex_pivot = bus_entex_pivot.reset_index().rename_axis(None, axis=1)\n",
    "bus_entex_pivot.info()"
   ]
  },
  {
   "cell_type": "code",
   "execution_count": 53,
   "metadata": {},
   "outputs": [
    {
     "name": "stdout",
     "output_type": "stream",
     "text": [
      "<class 'pandas.core.frame.DataFrame'>\n",
      "RangeIndex: 50213 entries, 0 to 50212\n",
      "Data columns (total 9 columns):\n",
      " #   Column    Non-Null Count  Dtype   \n",
      "---  ------    --------------  -----   \n",
      " 0   STOPCODE  50213 non-null  object  \n",
      " 1   STOPNAME  50213 non-null  object  \n",
      " 2   ROUTE     50213 non-null  object  \n",
      " 3   geometry  50213 non-null  geometry\n",
      " 4   Morning   48302 non-null  float64 \n",
      " 5   Midday    42077 non-null  float64 \n",
      " 6   Late      46360 non-null  float64 \n",
      " 7   Evening   40467 non-null  float64 \n",
      " 8   Total     50213 non-null  float64 \n",
      "dtypes: float64(5), geometry(1), object(3)\n",
      "memory usage: 3.4+ MB\n"
     ]
    }
   ],
   "source": [
    "# Create column 1011, sum of 10 and 11\n",
    "bus_entex_pivot[1011] = bus_entex_pivot[10] + bus_entex_pivot[11]\n",
    "bus_entex_pivot = bus_entex_pivot.drop(columns=[10, 11])\n",
    "\n",
    "# rename columns based on timeband\n",
    "timeband_dict = {\n",
    "    8: 'Morning',\n",
    "    9: 'Midday',\n",
    "    1011: 'Evening',\n",
    "    12: 'Late'\n",
    "}\n",
    "bus_entex_pivot = bus_entex_pivot.rename(columns=timeband_dict)\n",
    "\n",
    "# add total column\n",
    "bus_entex_pivot['Total'] = bus_entex_pivot[bus_entex_pivot.columns[4:]].sum(axis=1)\n",
    "bus_entex_pivot.info()"
   ]
  },
  {
   "cell_type": "code",
   "execution_count": 54,
   "metadata": {},
   "outputs": [
    {
     "data": {
      "text/html": [
       "<div>\n",
       "<style scoped>\n",
       "    .dataframe tbody tr th:only-of-type {\n",
       "        vertical-align: middle;\n",
       "    }\n",
       "\n",
       "    .dataframe tbody tr th {\n",
       "        vertical-align: top;\n",
       "    }\n",
       "\n",
       "    .dataframe thead th {\n",
       "        text-align: right;\n",
       "    }\n",
       "</style>\n",
       "<table border=\"1\" class=\"dataframe\">\n",
       "  <thead>\n",
       "    <tr style=\"text-align: right;\">\n",
       "      <th></th>\n",
       "      <th>STOPCODE</th>\n",
       "      <th>STOPNAME</th>\n",
       "      <th>ROUTE</th>\n",
       "      <th>geometry</th>\n",
       "      <th>Morning</th>\n",
       "      <th>Midday</th>\n",
       "      <th>Late</th>\n",
       "      <th>Evening</th>\n",
       "      <th>Total</th>\n",
       "    </tr>\n",
       "  </thead>\n",
       "  <tbody>\n",
       "    <tr>\n",
       "      <th>0</th>\n",
       "      <td>1000</td>\n",
       "      <td>WESTMINSTER STN  / PARLIAMENT SQUARE</td>\n",
       "      <td>12</td>\n",
       "      <td>POINT (530171.000 179738.000)</td>\n",
       "      <td>3.16854</td>\n",
       "      <td>20.90640</td>\n",
       "      <td>6.57087</td>\n",
       "      <td>28.61594</td>\n",
       "      <td>59.26175</td>\n",
       "    </tr>\n",
       "    <tr>\n",
       "      <th>1</th>\n",
       "      <td>1000</td>\n",
       "      <td>WESTMINSTER STN  / PARLIAMENT SQUARE</td>\n",
       "      <td>159</td>\n",
       "      <td>POINT (530171.000 179738.000)</td>\n",
       "      <td>1.79745</td>\n",
       "      <td>25.62950</td>\n",
       "      <td>5.97318</td>\n",
       "      <td>25.33188</td>\n",
       "      <td>58.73201</td>\n",
       "    </tr>\n",
       "    <tr>\n",
       "      <th>2</th>\n",
       "      <td>1000</td>\n",
       "      <td>WESTMINSTER STN  / PARLIAMENT SQUARE</td>\n",
       "      <td>453</td>\n",
       "      <td>POINT (530171.000 179738.000)</td>\n",
       "      <td>8.20901</td>\n",
       "      <td>95.92944</td>\n",
       "      <td>7.93913</td>\n",
       "      <td>40.49001</td>\n",
       "      <td>152.56759</td>\n",
       "    </tr>\n",
       "    <tr>\n",
       "      <th>3</th>\n",
       "      <td>1000</td>\n",
       "      <td>WESTMINSTER STN  / PARLIAMENT SQUARE</td>\n",
       "      <td>N109</td>\n",
       "      <td>POINT (530171.000 179738.000)</td>\n",
       "      <td>NaN</td>\n",
       "      <td>NaN</td>\n",
       "      <td>1.48756</td>\n",
       "      <td>NaN</td>\n",
       "      <td>1.48756</td>\n",
       "    </tr>\n",
       "    <tr>\n",
       "      <th>4</th>\n",
       "      <td>1000</td>\n",
       "      <td>WESTMINSTER STN  / PARLIAMENT SQUARE</td>\n",
       "      <td>N155</td>\n",
       "      <td>POINT (530171.000 179738.000)</td>\n",
       "      <td>0.00141</td>\n",
       "      <td>NaN</td>\n",
       "      <td>0.86524</td>\n",
       "      <td>NaN</td>\n",
       "      <td>0.86665</td>\n",
       "    </tr>\n",
       "  </tbody>\n",
       "</table>\n",
       "</div>"
      ],
      "text/plain": [
       "  STOPCODE                              STOPNAME ROUTE  \\\n",
       "0     1000  WESTMINSTER STN  / PARLIAMENT SQUARE    12   \n",
       "1     1000  WESTMINSTER STN  / PARLIAMENT SQUARE   159   \n",
       "2     1000  WESTMINSTER STN  / PARLIAMENT SQUARE   453   \n",
       "3     1000  WESTMINSTER STN  / PARLIAMENT SQUARE  N109   \n",
       "4     1000  WESTMINSTER STN  / PARLIAMENT SQUARE  N155   \n",
       "\n",
       "                        geometry  Morning    Midday     Late   Evening  \\\n",
       "0  POINT (530171.000 179738.000)  3.16854  20.90640  6.57087  28.61594   \n",
       "1  POINT (530171.000 179738.000)  1.79745  25.62950  5.97318  25.33188   \n",
       "2  POINT (530171.000 179738.000)  8.20901  95.92944  7.93913  40.49001   \n",
       "3  POINT (530171.000 179738.000)      NaN       NaN  1.48756       NaN   \n",
       "4  POINT (530171.000 179738.000)  0.00141       NaN  0.86524       NaN   \n",
       "\n",
       "       Total  \n",
       "0   59.26175  \n",
       "1   58.73201  \n",
       "2  152.56759  \n",
       "3    1.48756  \n",
       "4    0.86665  "
      ]
     },
     "execution_count": 54,
     "metadata": {},
     "output_type": "execute_result"
    }
   ],
   "source": [
    "# geodataframe\n",
    "bus_entex_pivot = gpd.GeoDataFrame(bus_entex_pivot, geometry='geometry',crs='epsg:27700')\n",
    "bus_entex_pivot.head()"
   ]
  },
  {
   "cell_type": "markdown",
   "metadata": {},
   "source": [
    "FILTER FOR LONDON ONLY"
   ]
  },
  {
   "cell_type": "code",
   "execution_count": 2,
   "metadata": {},
   "outputs": [],
   "source": [
    "greater_london = ox.geocode_to_gdf('Greater London, UK')\n",
    "greater_london = greater_london.to_crs(epsg=27700)"
   ]
  },
  {
   "cell_type": "code",
   "execution_count": 4,
   "metadata": {},
   "outputs": [
    {
     "data": {
      "image/png": "[encoded data removed]",
      "text/plain": [
       "<Figure size 1000x1000 with 1 Axes>"
      ]
     },
     "metadata": {},
     "output_type": "display_data"
    }
   ],
   "source": [
    "fig, ax = plt.subplots(figsize=(10,10))\n",
    "greater_london.plot(ax=ax, color='white', edgecolor='black')\n",
    "plt.axis('off') \n",
    "plt.show()"
   ]
  },
  {
   "cell_type": "code",
   "execution_count": 59,
   "metadata": {},
   "outputs": [
    {
     "name": "stdout",
     "output_type": "stream",
     "text": [
      "<class 'geopandas.geodataframe.GeoDataFrame'>\n",
      "Index: 48846 entries, 0 to 50212\n",
      "Data columns (total 9 columns):\n",
      " #   Column    Non-Null Count  Dtype   \n",
      "---  ------    --------------  -----   \n",
      " 0   STOPCODE  48846 non-null  object  \n",
      " 1   STOPNAME  48846 non-null  object  \n",
      " 2   ROUTE     48846 non-null  object  \n",
      " 3   geometry  48846 non-null  geometry\n",
      " 4   Morning   46952 non-null  float64 \n",
      " 5   Midday    40712 non-null  float64 \n",
      " 6   Late      45510 non-null  float64 \n",
      " 7   Evening   39374 non-null  float64 \n",
      " 8   Total     48846 non-null  float64 \n",
      "dtypes: float64(5), geometry(1), object(3)\n",
      "memory usage: 3.7+ MB\n"
     ]
    }
   ],
   "source": [
    "# subset points that are within the boundary of london\n",
    "bus_entex_pivot = bus_entex_pivot[bus_entex_pivot.geometry.intersects(greater_london.geometry[0])]\n",
    "bus_entex_pivot.info()"
   ]
  },
  {
   "cell_type": "markdown",
   "metadata": {},
   "source": [
    "EXPORT"
   ]
  },
  {
   "cell_type": "code",
   "execution_count": 61,
   "metadata": {},
   "outputs": [],
   "source": [
    "# export to geojson AGGREGATED BY STOP AND ROUTE\n",
    "bus_entex_pivot.to_file('data/cleaned/flow_bus_byStopRoutes_.gpkg', driver='GPKG')"
   ]
  },
  {
   "cell_type": "markdown",
   "metadata": {},
   "source": [
    "### AGGREGATE BY STOPS ONLY"
   ]
  },
  {
   "cell_type": "code",
   "execution_count": 62,
   "metadata": {},
   "outputs": [
    {
     "name": "stdout",
     "output_type": "stream",
     "text": [
      "<class 'geopandas.geodataframe.GeoDataFrame'>\n",
      "RangeIndex: 18581 entries, 0 to 18580\n",
      "Data columns (total 8 columns):\n",
      " #   Column    Non-Null Count  Dtype   \n",
      "---  ------    --------------  -----   \n",
      " 0   STOPCODE  18581 non-null  object  \n",
      " 1   STOPNAME  18581 non-null  object  \n",
      " 2   geometry  18581 non-null  geometry\n",
      " 3   Morning   18581 non-null  float64 \n",
      " 4   Midday    18581 non-null  float64 \n",
      " 5   Evening   18581 non-null  float64 \n",
      " 6   Late      18581 non-null  float64 \n",
      " 7   Total     18581 non-null  float64 \n",
      "dtypes: float64(5), geometry(1), object(2)\n",
      "memory usage: 1.1+ MB\n"
     ]
    }
   ],
   "source": [
    "# sum flow_bus by stop_id, aggregate all numerical columns\n",
    "flow_bus_byStop = bus_entex_pivot.groupby(['STOPCODE','STOPNAME']).agg({\n",
    "    'geometry': 'first',\n",
    "    'Morning': 'sum',\n",
    "    'Midday': 'sum',\n",
    "    'Evening': 'sum',\n",
    "    'Late': 'sum',\n",
    "    'Total': 'sum'\n",
    "}).reset_index()\n",
    "flow_bus_byStop = gpd.GeoDataFrame(flow_bus_byStop, geometry='geometry', crs='EPSG:27700')\n",
    "flow_bus_byStop.info()"
   ]
  },
  {
   "cell_type": "code",
   "execution_count": 63,
   "metadata": {},
   "outputs": [],
   "source": [
    "# export to geojson AGGREGATED BY STOP\n",
    "flow_bus_byStop.to_file('data/cleaned/flow_bus_byStop_.gpkg', driver='GPKG')"
   ]
  }
 ],
 "metadata": {
  "kernelspec": {
   "display_name": "Python 3",
   "language": "python",
   "name": "python3"
  },
  "language_info": {
   "codemirror_mode": {
    "name": "ipython",
    "version": 3
   },
   "file_extension": ".py",
   "mimetype": "text/x-python",
   "name": "python",
   "nbconvert_exporter": "python",
   "pygments_lexer": "ipython3",
   "version": "3.12.0"
  }
 },
 "nbformat": 4,
 "nbformat_minor": 2
}
