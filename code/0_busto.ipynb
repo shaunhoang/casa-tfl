{
 "cells": [
  {
   "cell_type": "code",
   "execution_count": 5,
   "metadata": {},
   "outputs": [],
   "source": [
    "import pandas as pd\n",
    "import geopandas as gpd\n",
    "import numpy as np\n",
    "import os\n",
    "import matplotlib.pyplot as plt\n",
    "import imageio.v2 as imageio\n",
    "import osmnx as ox \n",
    "from shapely.geometry import Point, LineString"
   ]
  },
  {
   "cell_type": "code",
   "execution_count": 6,
   "metadata": {},
   "outputs": [
    {
     "name": "stdout",
     "output_type": "stream",
     "text": [
      "<class 'geopandas.geodataframe.GeoDataFrame'>\n",
      "RangeIndex: 21540 entries, 0 to 21539\n",
      "Data columns (total 5 columns):\n",
      " #   Column       Non-Null Count  Dtype   \n",
      "---  ------       --------------  -----   \n",
      " 0   STOP_CODE    21540 non-null  object  \n",
      " 1   STOP_NAME    21517 non-null  object  \n",
      " 2   OS_EASTING   21540 non-null  float64 \n",
      " 3   OS_NORTHING  21540 non-null  float64 \n",
      " 4   geometry     21540 non-null  geometry\n",
      "dtypes: float64(2), geometry(1), object(2)\n",
      "memory usage: 841.5+ KB\n"
     ]
    }
   ],
   "source": [
    "# 1. read bus stops geojson\n",
    "bus_stops = gpd.read_file('data/raw/tfl/Bus_Stops.geojson')\n",
    "bus_stops = bus_stops.to_crs(epsg=27700)\n",
    "bus_stops['STOP_CODE'] = bus_stops['STOP_CODE'].astype(str).str.strip() # CONVERT STOP_CODE TO STR\n",
    "\n",
    "# 2. load bus stop data\n",
    "bus_stops1 = pd.read_csv('data/raw/tfl/bus-stops.csv')\n",
    "bus_stops1['Bus_Stop_Code'] = bus_stops1['Bus_Stop_Code'].astype(str).str.strip() # CONVERT STOP_CODE TO STR\n",
    "\n",
    "# combine bus_stops and bus_stops1 with stop_code\n",
    "bus_stops = bus_stops.merge(bus_stops1, left_on='STOP_CODE', right_on='Stop_Code_LBSL', how='outer')\n",
    "\n",
    "# fill stop_code with Stop_Code_LBSL\n",
    "bus_stops['STOP_CODE'] = bus_stops['STOP_CODE'].fillna(bus_stops['Stop_Code_LBSL'])\n",
    "bus_stops['STOP_NAME'] = bus_stops['STOP_NAME'].fillna(bus_stops['Stop_Name'])\n",
    "bus_stops['OS_EASTING'] = bus_stops['OS_EASTING'].fillna(bus_stops['Location_Easting'])\n",
    "bus_stops['OS_NORTHING'] = bus_stops['OS_NORTHING'].fillna(bus_stops['Location_Northing'])\n",
    "bus_stops['geometry'] = [Point(x, y) for x, y in zip(bus_stops['OS_EASTING'], bus_stops['OS_NORTHING'])]\n",
    "\n",
    "# filter to necessary columns\n",
    "bus_stops = bus_stops[['STOP_CODE', 'STOP_NAME', 'OS_EASTING', 'OS_NORTHING','geometry']]\n",
    "bus_stops = gpd.GeoDataFrame(bus_stops, geometry='geometry', crs='epsg:27700')\n",
    "bus_stops.info()"
   ]
  },
  {
   "cell_type": "code",
   "execution_count": 11,
   "metadata": {},
   "outputs": [
    {
     "name": "stdout",
     "output_type": "stream",
     "text": [
      "<class 'geopandas.geodataframe.GeoDataFrame'>\n",
      "RangeIndex: 922 entries, 0 to 921\n",
      "Data columns (total 15 columns):\n",
      " #   Column        Non-Null Count  Dtype   \n",
      "---  ------        --------------  -----   \n",
      " 0   YEAR          922 non-null    int64   \n",
      " 1   DAY_TYPE      922 non-null    object  \n",
      " 2   TIMEBAND      922 non-null    int64   \n",
      " 3   ROUTE         922 non-null    int64   \n",
      " 4   DIRECTION     922 non-null    int64   \n",
      " 5   STOPCODE      922 non-null    object  \n",
      " 6   STOPNAME      922 non-null    object  \n",
      " 7   STOPSEQUENCE  922 non-null    float64 \n",
      " 8   AllBoardings  922 non-null    float64 \n",
      " 9   AllAlighted   922 non-null    float64 \n",
      " 10  load          922 non-null    float64 \n",
      " 11  Capacity      922 non-null    float64 \n",
      " 12  Seats         922 non-null    float64 \n",
      " 13  V/C           922 non-null    float64 \n",
      " 14  geometry      922 non-null    geometry\n",
      "dtypes: float64(7), geometry(1), int64(4), object(3)\n",
      "memory usage: 108.2+ KB\n"
     ]
    }
   ],
   "source": [
    "# import bus data\n",
    "file = os.path.join('data/raw/tfl/busto_sample.CSV')\n",
    "bus_entex = pd.read_csv(file, sep=';')\n",
    "\n",
    "# get geometry for bus_entex from bus_stops\n",
    "bus_entex= bus_entex.merge(bus_stops[['STOP_CODE', 'geometry']], left_on='STOPCODE', right_on='STOP_CODE', how='left')\n",
    "bus_entex = bus_entex.drop(columns=['STOP_CODE'])\n",
    "bus_entex = gpd.GeoDataFrame(bus_entex, geometry='geometry',crs='epsg:27700')\n",
    "bus_entex.info()"
   ]
  },
  {
   "cell_type": "markdown",
   "metadata": {},
   "source": [
    "FILTER WITHIN LONDON   "
   ]
  },
  {
   "cell_type": "code",
   "execution_count": 12,
   "metadata": {},
   "outputs": [
    {
     "name": "stdout",
     "output_type": "stream",
     "text": [
      "<class 'geopandas.geodataframe.GeoDataFrame'>\n",
      "Index: 877 entries, 0 to 921\n",
      "Data columns (total 15 columns):\n",
      " #   Column        Non-Null Count  Dtype   \n",
      "---  ------        --------------  -----   \n",
      " 0   YEAR          877 non-null    int64   \n",
      " 1   DAY_TYPE      877 non-null    object  \n",
      " 2   TIMEBAND      877 non-null    int64   \n",
      " 3   ROUTE         877 non-null    int64   \n",
      " 4   DIRECTION     877 non-null    int64   \n",
      " 5   STOPCODE      877 non-null    object  \n",
      " 6   STOPNAME      877 non-null    object  \n",
      " 7   STOPSEQUENCE  877 non-null    float64 \n",
      " 8   AllBoardings  877 non-null    float64 \n",
      " 9   AllAlighted   877 non-null    float64 \n",
      " 10  load          877 non-null    float64 \n",
      " 11  Capacity      877 non-null    float64 \n",
      " 12  Seats         877 non-null    float64 \n",
      " 13  V/C           877 non-null    float64 \n",
      " 14  geometry      877 non-null    geometry\n",
      "dtypes: float64(7), geometry(1), int64(4), object(3)\n",
      "memory usage: 109.6+ KB\n"
     ]
    }
   ],
   "source": [
    "# download the Greater London boundary\n",
    "greater_london = ox.geocode_to_gdf('Greater London, UK')\n",
    "greater_london = greater_london.to_crs(epsg=27700)\n",
    "\n",
    "# subset points that are within the boundary of london\n",
    "bus_entex = bus_entex[bus_entex.geometry.intersects(greater_london.geometry[0])]\n",
    "bus_entex.info()"
   ]
  },
  {
   "cell_type": "markdown",
   "metadata": {},
   "source": [
    "FUNCTION TO FILTER BUS DATA BY DATE"
   ]
  },
  {
   "cell_type": "code",
   "execution_count": 13,
   "metadata": {},
   "outputs": [
    {
     "name": "stdout",
     "output_type": "stream",
     "text": [
      "<class 'geopandas.geodataframe.GeoDataFrame'>\n",
      "Index: 877 entries, 0 to 921\n",
      "Data columns (total 15 columns):\n",
      " #   Column        Non-Null Count  Dtype   \n",
      "---  ------        --------------  -----   \n",
      " 0   YEAR          877 non-null    int64   \n",
      " 1   DAY_TYPE      877 non-null    object  \n",
      " 2   TIMEBAND      877 non-null    int64   \n",
      " 3   ROUTE         877 non-null    int64   \n",
      " 4   DIRECTION     877 non-null    int64   \n",
      " 5   STOPCODE      877 non-null    object  \n",
      " 6   STOPNAME      877 non-null    object  \n",
      " 7   STOPSEQUENCE  877 non-null    float64 \n",
      " 8   AllBoardings  877 non-null    float64 \n",
      " 9   AllAlighted   877 non-null    float64 \n",
      " 10  load          877 non-null    float64 \n",
      " 11  Capacity      877 non-null    float64 \n",
      " 12  Seats         877 non-null    float64 \n",
      " 13  V/C           877 non-null    float64 \n",
      " 14  geometry      877 non-null    geometry\n",
      "dtypes: float64(7), geometry(1), int64(4), object(3)\n",
      "memory usage: 109.6+ KB\n"
     ]
    }
   ],
   "source": [
    "# filter for saturday only\n",
    "bus_entex = bus_entex[bus_entex['DAY_TYPE'] == 'Saturday']\n",
    "bus_entex.info()"
   ]
  },
  {
   "cell_type": "markdown",
   "metadata": {},
   "source": [
    "Split by time band"
   ]
  },
  {
   "cell_type": "code",
   "execution_count": 18,
   "metadata": {},
   "outputs": [
    {
     "name": "stdout",
     "output_type": "stream",
     "text": [
      "<class 'pandas.core.frame.DataFrame'>\n",
      "RangeIndex: 874 entries, 0 to 873\n",
      "Data columns (total 6 columns):\n",
      " #   Column    Non-Null Count  Dtype   \n",
      "---  ------    --------------  -----   \n",
      " 0   STOPCODE  874 non-null    object  \n",
      " 1   STOPNAME  874 non-null    object  \n",
      " 2   ROUTE     874 non-null    int64   \n",
      " 3   geometry  874 non-null    geometry\n",
      " 4   8         874 non-null    float64 \n",
      " 5   Total     874 non-null    float64 \n",
      "dtypes: float64(2), geometry(1), int64(1), object(2)\n",
      "memory usage: 41.1+ KB\n"
     ]
    }
   ],
   "source": [
    "# pivot by time bands\n",
    "bus_entex_pivot = bus_entex.pivot_table(index=['STOPCODE','STOPNAME','ROUTE','geometry'], columns='TIMEBAND', values=['AllAlighted'], aggfunc='sum')\n",
    "bus_entex_pivot.columns = bus_entex_pivot.columns.droplevel()\n",
    "bus_entex_pivot = bus_entex_pivot.reset_index()\n",
    "# add total columnS that are numerical\n",
    "bus_entex_pivot['Total'] = bus_entex_pivot[bus_entex_pivot.columns[4:]].sum(axis=1)\n",
    "bus_entex_pivot.info()"
   ]
  },
  {
   "cell_type": "code",
   "execution_count": 19,
   "metadata": {},
   "outputs": [],
   "source": [
    "# rename columns based on timeband, use dict\n",
    "\n",
    "timeband_dict = {\n",
    "    8: 'Early',\n",
    "    1: 'Early',\n",
    "    2: 'AM Peak',\n",
    "    3: 'AM Peak',\n",
    "    4: 'Midday',\n",
    "    5: 'PM Peak',\n",
    "    6: 'Evening',\n",
    "    7: 'Late',\n",
    "}\n",
    "bus_entex_pivot = bus_entex_pivot.rename(columns=timeband_dict)"
   ]
  },
  {
   "cell_type": "code",
   "execution_count": 22,
   "metadata": {},
   "outputs": [
    {
     "data": {
      "text/html": [
       "<div>\n",
       "<style scoped>\n",
       "    .dataframe tbody tr th:only-of-type {\n",
       "        vertical-align: middle;\n",
       "    }\n",
       "\n",
       "    .dataframe tbody tr th {\n",
       "        vertical-align: top;\n",
       "    }\n",
       "\n",
       "    .dataframe thead th {\n",
       "        text-align: right;\n",
       "    }\n",
       "</style>\n",
       "<table border=\"1\" class=\"dataframe\">\n",
       "  <thead>\n",
       "    <tr style=\"text-align: right;\">\n",
       "      <th>TIMEBAND</th>\n",
       "      <th>STOPCODE</th>\n",
       "      <th>STOPNAME</th>\n",
       "      <th>ROUTE</th>\n",
       "      <th>geometry</th>\n",
       "      <th>Early</th>\n",
       "      <th>Total</th>\n",
       "    </tr>\n",
       "  </thead>\n",
       "  <tbody>\n",
       "    <tr>\n",
       "      <th>0</th>\n",
       "      <td>1011</td>\n",
       "      <td>CLAPTON POND</td>\n",
       "      <td>106</td>\n",
       "      <td>POINT (534887.000 186004.000)</td>\n",
       "      <td>37.92242</td>\n",
       "      <td>37.92242</td>\n",
       "    </tr>\n",
       "    <tr>\n",
       "      <th>1</th>\n",
       "      <td>10242</td>\n",
       "      <td>FAIRLAWN AVENUE</td>\n",
       "      <td>102</td>\n",
       "      <td>POINT (527295.000 189380.000)</td>\n",
       "      <td>60.84237</td>\n",
       "      <td>60.84237</td>\n",
       "    </tr>\n",
       "    <tr>\n",
       "      <th>2</th>\n",
       "      <td>1047</td>\n",
       "      <td>THE OLD VIC</td>\n",
       "      <td>1</td>\n",
       "      <td>POINT (531368.000 179740.000)</td>\n",
       "      <td>11.31737</td>\n",
       "      <td>11.31737</td>\n",
       "    </tr>\n",
       "    <tr>\n",
       "      <th>3</th>\n",
       "      <td>1048</td>\n",
       "      <td>THE OLD VIC</td>\n",
       "      <td>1</td>\n",
       "      <td>POINT (531345.000 179734.000)</td>\n",
       "      <td>58.79182</td>\n",
       "      <td>58.79182</td>\n",
       "    </tr>\n",
       "    <tr>\n",
       "      <th>4</th>\n",
       "      <td>10813</td>\n",
       "      <td>WHITGIFT CENTRE</td>\n",
       "      <td>109</td>\n",
       "      <td>POINT (532444.000 165831.000)</td>\n",
       "      <td>1.05100</td>\n",
       "      <td>1.05100</td>\n",
       "    </tr>\n",
       "  </tbody>\n",
       "</table>\n",
       "</div>"
      ],
      "text/plain": [
       "TIMEBAND STOPCODE         STOPNAME  ROUTE                       geometry  \\\n",
       "0            1011     CLAPTON POND    106  POINT (534887.000 186004.000)   \n",
       "1           10242  FAIRLAWN AVENUE    102  POINT (527295.000 189380.000)   \n",
       "2            1047      THE OLD VIC      1  POINT (531368.000 179740.000)   \n",
       "3            1048      THE OLD VIC      1  POINT (531345.000 179734.000)   \n",
       "4           10813  WHITGIFT CENTRE    109  POINT (532444.000 165831.000)   \n",
       "\n",
       "TIMEBAND     Early     Total  \n",
       "0         37.92242  37.92242  \n",
       "1         60.84237  60.84237  \n",
       "2         11.31737  11.31737  \n",
       "3         58.79182  58.79182  \n",
       "4          1.05100   1.05100  "
      ]
     },
     "execution_count": 22,
     "metadata": {},
     "output_type": "execute_result"
    }
   ],
   "source": [
    "# geodataframe\n",
    "bus_entex_pivot = gpd.GeoDataFrame(bus_entex_pivot, geometry='geometry',crs='epsg:27700')\n",
    "bus_entex_pivot.head()"
   ]
  },
  {
   "cell_type": "markdown",
   "metadata": {},
   "source": [
    "EXPORT"
   ]
  },
  {
   "cell_type": "code",
   "execution_count": 23,
   "metadata": {},
   "outputs": [],
   "source": [
    "# export to geojson AGGREGATED BY STOP AND ROUTE\n",
    "bus_entex_pivot.to_file('data/cleaned/flow_bus_byStopRoutes_.gpkg', driver='GPKG')"
   ]
  },
  {
   "cell_type": "code",
   "execution_count": 24,
   "metadata": {},
   "outputs": [
    {
     "name": "stdout",
     "output_type": "stream",
     "text": [
      "<class 'geopandas.geodataframe.GeoDataFrame'>\n",
      "RangeIndex: 868 entries, 0 to 867\n",
      "Data columns (total 5 columns):\n",
      " #   Column    Non-Null Count  Dtype   \n",
      "---  ------    --------------  -----   \n",
      " 0   STOPCODE  868 non-null    object  \n",
      " 1   STOPNAME  868 non-null    object  \n",
      " 2   Early     868 non-null    float64 \n",
      " 3   Total     868 non-null    float64 \n",
      " 4   geometry  868 non-null    geometry\n",
      "dtypes: float64(2), geometry(1), object(2)\n",
      "memory usage: 34.0+ KB\n"
     ]
    }
   ],
   "source": [
    "# sum flow_bus by stoap_id, aggregate all numerical columns\n",
    "flow_bus_byStop = bus_entex_pivot.groupby(['STOPCODE','STOPNAME']).agg({\n",
    "    'Early': 'sum',\n",
    "    # 'AM Peak': 'sum',\n",
    "    # 'Midday': 'sum',\n",
    "    # 'PM Peak': 'sum',\n",
    "    # 'Evening': 'sum',\n",
    "    # 'Late': 'sum',\n",
    "    'Total': 'sum',\n",
    "    'geometry': 'first'\n",
    "}).reset_index()\n",
    "flow_bus_byStop = gpd.GeoDataFrame(flow_bus_byStop, geometry='geometry', crs='EPSG:27700')\n",
    "flow_bus_byStop.info()"
   ]
  },
  {
   "cell_type": "code",
   "execution_count": 25,
   "metadata": {},
   "outputs": [],
   "source": [
    "# export to geojson AGGREGATED BY STOP\n",
    "flow_bus_byStop.to_file('data/cleaned/flow_bus_byStop_.gpkg', driver='GPKG')"
   ]
  }
 ],
 "metadata": {
  "kernelspec": {
   "display_name": "Python 3",
   "language": "python",
   "name": "python3"
  },
  "language_info": {
   "codemirror_mode": {
    "name": "ipython",
    "version": 3
   },
   "file_extension": ".py",
   "mimetype": "text/x-python",
   "name": "python",
   "nbconvert_exporter": "python",
   "pygments_lexer": "ipython3",
   "version": "3.12.0"
  }
 },
 "nbformat": 4,
 "nbformat_minor": 2
}
