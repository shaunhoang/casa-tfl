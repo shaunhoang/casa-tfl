{
 "cells": [
  {
   "cell_type": "code",
   "execution_count": 1,
   "metadata": {},
   "outputs": [],
   "source": [
    "import pandas as pd\n",
    "import geopandas as gpd\n",
    "import numpy as np\n",
    "import os\n",
    "import matplotlib.pyplot as plt\n",
    "import imageio.v2 as imageio\n",
    "import osmnx as ox"
   ]
  },
  {
   "cell_type": "code",
   "execution_count": 2,
   "metadata": {},
   "outputs": [
    {
     "data": {
      "text/html": [
       "<div>\n",
       "<style scoped>\n",
       "    .dataframe tbody tr th:only-of-type {\n",
       "        vertical-align: middle;\n",
       "    }\n",
       "\n",
       "    .dataframe tbody tr th {\n",
       "        vertical-align: top;\n",
       "    }\n",
       "\n",
       "    .dataframe thead th {\n",
       "        text-align: right;\n",
       "    }\n",
       "</style>\n",
       "<table border=\"1\" class=\"dataframe\">\n",
       "  <thead>\n",
       "    <tr style=\"text-align: right;\">\n",
       "      <th></th>\n",
       "      <th>OBJECTID</th>\n",
       "      <th>STOP_NAME</th>\n",
       "      <th>STOP_CODE</th>\n",
       "      <th>COUNTDOWN_SIGN</th>\n",
       "      <th>NAPTAN_ATCO</th>\n",
       "      <th>ROAD_NAME</th>\n",
       "      <th>POINT_LETTER</th>\n",
       "      <th>ROUTES</th>\n",
       "      <th>LIVE_BUS_ARRIVAL</th>\n",
       "      <th>OS_EASTING</th>\n",
       "      <th>OS_NORTHING</th>\n",
       "      <th>POSTCODE</th>\n",
       "      <th>geometry</th>\n",
       "    </tr>\n",
       "  </thead>\n",
       "  <tbody>\n",
       "    <tr>\n",
       "      <th>0</th>\n",
       "      <td>627</td>\n",
       "      <td>Northumberland Park Bus Stand</td>\n",
       "      <td>BP4641</td>\n",
       "      <td>None</td>\n",
       "      <td>None</td>\n",
       "      <td>NORTHUMBERLAND PARK</td>\n",
       "      <td>None</td>\n",
       "      <td>None</td>\n",
       "      <td>https://tfl.gov.uk/bus/stop//</td>\n",
       "      <td>534761</td>\n",
       "      <td>191137</td>\n",
       "      <td>N17 0LB</td>\n",
       "      <td>POINT (-0.05554 51.60296)</td>\n",
       "    </tr>\n",
       "    <tr>\n",
       "      <th>1</th>\n",
       "      <td>780</td>\n",
       "      <td>Hyde Park Corner</td>\n",
       "      <td>BP4661</td>\n",
       "      <td>None</td>\n",
       "      <td>None</td>\n",
       "      <td>PICCADILLY</td>\n",
       "      <td>None</td>\n",
       "      <td>None</td>\n",
       "      <td>https://tfl.gov.uk/bus/stop//</td>\n",
       "      <td>528623</td>\n",
       "      <td>179941</td>\n",
       "      <td>W1J 9DZ</td>\n",
       "      <td>POINT (-0.14820 51.50378)</td>\n",
       "    </tr>\n",
       "    <tr>\n",
       "      <th>2</th>\n",
       "      <td>2401</td>\n",
       "      <td>Hampton Court Station</td>\n",
       "      <td>BP5447</td>\n",
       "      <td>None</td>\n",
       "      <td>None</td>\n",
       "      <td>HAMPTON COURT STATION FORECOURT</td>\n",
       "      <td>AP</td>\n",
       "      <td>None</td>\n",
       "      <td>https://tfl.gov.uk/bus/stop//</td>\n",
       "      <td>515372</td>\n",
       "      <td>168407</td>\n",
       "      <td>KT8 9AE</td>\n",
       "      <td>POINT (-0.34279 51.40297)</td>\n",
       "    </tr>\n",
       "    <tr>\n",
       "      <th>3</th>\n",
       "      <td>2951</td>\n",
       "      <td>Birkbeck</td>\n",
       "      <td>TRS162</td>\n",
       "      <td>None</td>\n",
       "      <td>9400ZZCRBIR1</td>\n",
       "      <td>HARRINGTON ROAD - BIRKBECK</td>\n",
       "      <td>None</td>\n",
       "      <td>T2</td>\n",
       "      <td>https://tfl.gov.uk/bus/stop/9400ZZCRBIR1/</td>\n",
       "      <td>535302</td>\n",
       "      <td>168966</td>\n",
       "      <td>SE20 7YA</td>\n",
       "      <td>POINT (-0.05623 51.40359)</td>\n",
       "    </tr>\n",
       "    <tr>\n",
       "      <th>4</th>\n",
       "      <td>3016</td>\n",
       "      <td>Avenue Road</td>\n",
       "      <td>TRS164</td>\n",
       "      <td>None</td>\n",
       "      <td>9400ZZCRAVE1</td>\n",
       "      <td>AVENUE ROAD</td>\n",
       "      <td>None</td>\n",
       "      <td>T2</td>\n",
       "      <td>https://tfl.gov.uk/bus/stop/9400ZZCRAVE1/</td>\n",
       "      <td>535744</td>\n",
       "      <td>169323</td>\n",
       "      <td>BR3 4SB</td>\n",
       "      <td>POINT (-0.04974 51.40669)</td>\n",
       "    </tr>\n",
       "  </tbody>\n",
       "</table>\n",
       "</div>"
      ],
      "text/plain": [
       "   OBJECTID                      STOP_NAME STOP_CODE COUNTDOWN_SIGN  \\\n",
       "0       627  Northumberland Park Bus Stand    BP4641           None   \n",
       "1       780               Hyde Park Corner    BP4661           None   \n",
       "2      2401          Hampton Court Station    BP5447           None   \n",
       "3      2951                       Birkbeck    TRS162           None   \n",
       "4      3016                    Avenue Road    TRS164           None   \n",
       "\n",
       "    NAPTAN_ATCO                        ROAD_NAME POINT_LETTER ROUTES  \\\n",
       "0          None              NORTHUMBERLAND PARK         None   None   \n",
       "1          None                       PICCADILLY         None   None   \n",
       "2          None  HAMPTON COURT STATION FORECOURT           AP   None   \n",
       "3  9400ZZCRBIR1       HARRINGTON ROAD - BIRKBECK         None     T2   \n",
       "4  9400ZZCRAVE1                      AVENUE ROAD         None     T2   \n",
       "\n",
       "                            LIVE_BUS_ARRIVAL  OS_EASTING  OS_NORTHING  \\\n",
       "0              https://tfl.gov.uk/bus/stop//      534761       191137   \n",
       "1              https://tfl.gov.uk/bus/stop//      528623       179941   \n",
       "2              https://tfl.gov.uk/bus/stop//      515372       168407   \n",
       "3  https://tfl.gov.uk/bus/stop/9400ZZCRBIR1/      535302       168966   \n",
       "4  https://tfl.gov.uk/bus/stop/9400ZZCRAVE1/      535744       169323   \n",
       "\n",
       "   POSTCODE                   geometry  \n",
       "0   N17 0LB  POINT (-0.05554 51.60296)  \n",
       "1   W1J 9DZ  POINT (-0.14820 51.50378)  \n",
       "2   KT8 9AE  POINT (-0.34279 51.40297)  \n",
       "3  SE20 7YA  POINT (-0.05623 51.40359)  \n",
       "4   BR3 4SB  POINT (-0.04974 51.40669)  "
      ]
     },
     "execution_count": 2,
     "metadata": {},
     "output_type": "execute_result"
    }
   ],
   "source": [
    "# read bus stops geojson\n",
    "bus_stops = gpd.read_file('data/raw/tfl/Bus_Stops.geojson')\n",
    "bus_stops = bus_stops.to_crs(epsg=4326)\n",
    "bus_stops = bus_stops.dropna(subset=['geometry'])\n",
    "# drop DATE_UPDATED\n",
    "bus_stops = bus_stops.drop(columns=['DATE_UPDATED'])\n",
    "bus_stops.head()"
   ]
  },
  {
   "cell_type": "code",
   "execution_count": 3,
   "metadata": {},
   "outputs": [],
   "source": [
    "# import bus data\n",
    "file = os.path.join('data/raw/tfl/busto_outputs/busto-sample.CSV')\n",
    "bus_entex = pd.read_csv(file)\n",
    "bus_entex.head()\n",
    "\n",
    "# get geometry for bus_entex from bus_stops\n",
    "bus_entex= bus_entex.merge(bus_stops[['STOP_CODE', 'geometry']], left_on='STOPCODE', right_on='STOP_CODE', how='left')\n",
    "bus_entex = gpd.GeoDataFrame(bus_entex, geometry='geometry',crs='epsg:4326')"
   ]
  },
  {
   "cell_type": "markdown",
   "metadata": {},
   "source": [
    "FILTER WITHIN LONDON   "
   ]
  },
  {
   "cell_type": "code",
   "execution_count": 4,
   "metadata": {},
   "outputs": [],
   "source": [
    "# download the Greater London boundary\n",
    "greater_london = ox.geocode_to_gdf('Greater London, UK')\n",
    "greater_london = greater_london.to_crs(epsg=4326)\n",
    "\n",
    "# subset points that are within the boundary of london\n",
    "bus_entex = bus_entex[bus_entex.geometry.intersects(greater_london.geometry[0])]"
   ]
  },
  {
   "cell_type": "markdown",
   "metadata": {},
   "source": [
    "FUNCTION TO FILTER BUS DATA BY DATE"
   ]
  },
  {
   "cell_type": "code",
   "execution_count": 5,
   "metadata": {},
   "outputs": [
    {
     "name": "stdout",
     "output_type": "stream",
     "text": [
      "<class 'geopandas.geodataframe.GeoDataFrame'>\n",
      "Index: 877 entries, 0 to 921\n",
      "Data columns (total 16 columns):\n",
      " #   Column        Non-Null Count  Dtype   \n",
      "---  ------        --------------  -----   \n",
      " 0   YEAR          877 non-null    int64   \n",
      " 1   DAY_TYPE      877 non-null    object  \n",
      " 2   TIMEBAND      877 non-null    int64   \n",
      " 3   ROUTE         877 non-null    int64   \n",
      " 4   DIRECTION     877 non-null    int64   \n",
      " 5   STOPCODE      877 non-null    object  \n",
      " 6   STOPNAME      877 non-null    object  \n",
      " 7   STOPSEQUENCE  877 non-null    int64   \n",
      " 8   AllBoardings  877 non-null    float64 \n",
      " 9   AllAlighted   877 non-null    float64 \n",
      " 10  load          877 non-null    float64 \n",
      " 11  Capacity      877 non-null    float64 \n",
      " 12  Seats         877 non-null    float64 \n",
      " 13  V/C           877 non-null    float64 \n",
      " 14  STOP_CODE     877 non-null    object  \n",
      " 15  geometry      877 non-null    geometry\n",
      "dtypes: float64(6), geometry(1), int64(5), object(4)\n",
      "memory usage: 116.5+ KB\n"
     ]
    }
   ],
   "source": [
    "# filter for saturday only\n",
    "bus_entex = bus_entex[bus_entex['DAY_TYPE'] == 'Saturday']\n",
    "bus_entex.info()"
   ]
  },
  {
   "cell_type": "markdown",
   "metadata": {},
   "source": [
    "FUNCTION TO PLOT SINGLE ROUTE"
   ]
  },
  {
   "cell_type": "code",
   "execution_count": 6,
   "metadata": {},
   "outputs": [],
   "source": [
    "# # define function to plot according to route_id\n",
    "# def plot_route(route_id):\n",
    "    \n",
    "#     route_id = str(route_id)    #convert route_id to string\n",
    "#     bus_entex['ROUTE'] = bus_entex['ROUTE'].astype(str)\n",
    "#     df_plot = bus_entex[bus_entex.ROUTE==route_id] # filter data for the route_id\n",
    "\n",
    "#     # import london boroughs\n",
    "#     boroughs = gpd.read_file(os.path.join('data','shapefile','statistical-gis-boundaries-london','ESRI','London_Borough_Excluding_MHW.shp'))\n",
    "#     boroughs = boroughs.to_crs(epsg=4326) # change crs to 4326                   \n",
    "\n",
    "#     # plot\n",
    "#     # get minmax values for colorbar, min of both n_boarders and n_alighters\n",
    "#     vmin = df_plot[['AllBoardings','AllAlighted']].min().min()\n",
    "#     vmax = df_plot[['AllBoardings','AllAlighted']].max().max()\n",
    "\n",
    "#     # cmap\n",
    "#     cmap = plt.cm.viridis\n",
    "    \n",
    "#     fig,ax = plt.subplots(2,1,figsize=(15,20))\n",
    "\n",
    "#     df_plot.plot(ax=ax[0], cmap=cmap, column='AllBoardings',markersize=df_plot['AllBoardings']/10, vmin=vmin, vmax=vmax,label='STOPNAME')\n",
    "#     boroughs.boundary.plot(ax=ax[0], color='grey', linewidth=0.3)\n",
    "#     ax[0].set_title('Route {} - Boarders'.format(route_id))\n",
    "#     ax[0].set_axis_off()\n",
    "\n",
    "#     df_plot.plot(ax=ax[1], cmap=cmap, column='AllAlighted', markersize=df_plot['AllAlighted']/10, vmin=vmin, vmax=vmax,label='STOPNAME')\n",
    "#     boroughs.boundary.plot(ax=ax[1], color='grey', linewidth=0.3)\n",
    "#     ax[1].set_title('Route {} - Alighters'.format(route_id))\n",
    "#     ax[1].set_axis_off()\n",
    "\n",
    "#     # shared legend for both axes\n",
    "#     sm = plt.cm.ScalarMappable(cmap=cmap, norm=plt.Normalize(vmin=vmin, vmax=vmax))\n",
    "#     cbar = plt.colorbar(sm, ax=ax, orientation='vertical', pad=0.01, aspect=50)\n",
    "#     cbar.set_label('Number of passengers')\n",
    "\n",
    "#     plt.show()\n",
    "    \n",
    "#     return"
   ]
  },
  {
   "cell_type": "code",
   "execution_count": 7,
   "metadata": {},
   "outputs": [],
   "source": [
    "# plot_route(1)"
   ]
  },
  {
   "cell_type": "markdown",
   "metadata": {},
   "source": [
    "Split by time band"
   ]
  },
  {
   "cell_type": "code",
   "execution_count": 8,
   "metadata": {},
   "outputs": [
    {
     "name": "stdout",
     "output_type": "stream",
     "text": [
      "<class 'pandas.core.frame.DataFrame'>\n",
      "RangeIndex: 874 entries, 0 to 873\n",
      "Data columns (total 6 columns):\n",
      " #   Column    Non-Null Count  Dtype   \n",
      "---  ------    --------------  -----   \n",
      " 0   STOPCODE  874 non-null    object  \n",
      " 1   STOPNAME  874 non-null    object  \n",
      " 2   ROUTE     874 non-null    int64   \n",
      " 3   geometry  874 non-null    geometry\n",
      " 4   8         874 non-null    float64 \n",
      " 5   Total     874 non-null    float64 \n",
      "dtypes: float64(2), geometry(1), int64(1), object(2)\n",
      "memory usage: 41.1+ KB\n"
     ]
    }
   ],
   "source": [
    "# pivot by time bands\n",
    "bus_entex_pivot = bus_entex.pivot_table(index=['STOPCODE','STOPNAME','ROUTE','geometry'], columns='TIMEBAND', values=['AllAlighted'], aggfunc='sum')\n",
    "bus_entex_pivot.columns = bus_entex_pivot.columns.droplevel()\n",
    "bus_entex_pivot = bus_entex_pivot.reset_index()\n",
    "# add total columnS that are numerical\n",
    "bus_entex_pivot['Total'] = bus_entex_pivot[bus_entex_pivot.columns[4:]].sum(axis=1)\n",
    "bus_entex_pivot.info()"
   ]
  },
  {
   "cell_type": "code",
   "execution_count": 9,
   "metadata": {},
   "outputs": [],
   "source": [
    "# rename columns based on timeband, use dict\n",
    "\n",
    "timeband_dict = {\n",
    "    8: 'Early',\n",
    "    1: 'Early',\n",
    "    2: 'AM Peak',\n",
    "    3: 'AM Peak',\n",
    "    4: 'Midday',\n",
    "    5: 'PM Peak',\n",
    "    6: 'Evening',\n",
    "    7: 'Late',\n",
    "}\n",
    "\n",
    "bus_entex_pivot = bus_entex_pivot.rename(columns=timeband_dict)"
   ]
  },
  {
   "cell_type": "code",
   "execution_count": 10,
   "metadata": {},
   "outputs": [],
   "source": [
    "# geodataframe\n",
    "bus_entex_pivot = gpd.GeoDataFrame(bus_entex_pivot, geometry='geometry',crs='epsg:4326')\n",
    "bus_entex_pivot.to_crs(epsg=27700, inplace=True)"
   ]
  },
  {
   "cell_type": "markdown",
   "metadata": {},
   "source": [
    "EXPORT"
   ]
  },
  {
   "cell_type": "code",
   "execution_count": 11,
   "metadata": {},
   "outputs": [],
   "source": [
    "# export to geojson AGGREGATED BY STOP AND ROUTE\n",
    "bus_entex_pivot.to_file('data/cleaned/flow_bus_byStopRoutes_.gpkg', driver='GPKG')"
   ]
  },
  {
   "cell_type": "code",
   "execution_count": 12,
   "metadata": {},
   "outputs": [
    {
     "name": "stdout",
     "output_type": "stream",
     "text": [
      "<class 'geopandas.geodataframe.GeoDataFrame'>\n",
      "RangeIndex: 868 entries, 0 to 867\n",
      "Data columns (total 5 columns):\n",
      " #   Column    Non-Null Count  Dtype   \n",
      "---  ------    --------------  -----   \n",
      " 0   STOPCODE  868 non-null    object  \n",
      " 1   STOPNAME  868 non-null    object  \n",
      " 2   Early     868 non-null    float64 \n",
      " 3   Total     868 non-null    float64 \n",
      " 4   geometry  868 non-null    geometry\n",
      "dtypes: float64(2), geometry(1), object(2)\n",
      "memory usage: 34.0+ KB\n"
     ]
    }
   ],
   "source": [
    "# sum flow_bus by stoap_id, aggregate all numerical columns\n",
    "flow_bus_byStop = bus_entex_pivot.groupby(['STOPCODE','STOPNAME']).agg({\n",
    "    'Early': 'sum',\n",
    "    # 'AM Peak': 'sum',\n",
    "    # 'Midday': 'sum',\n",
    "    # 'PM Peak': 'sum',\n",
    "    # 'Evening': 'sum',\n",
    "    # 'Late': 'sum',\n",
    "    'Total': 'sum',\n",
    "    'geometry': 'first'\n",
    "}).reset_index()\n",
    "flow_bus_byStop = gpd.GeoDataFrame(flow_bus_byStop, geometry='geometry', crs='EPSG:27700')\n",
    "flow_bus_byStop.info()"
   ]
  },
  {
   "cell_type": "code",
   "execution_count": 13,
   "metadata": {},
   "outputs": [],
   "source": [
    "# export to geojson AGGREGATED BY STOP\n",
    "flow_bus_byStop.to_file('data/cleaned/flow_bus_byStop_.gpkg', driver='GPKG')"
   ]
  }
 ],
 "metadata": {
  "kernelspec": {
   "display_name": "Python 3",
   "language": "python",
   "name": "python3"
  },
  "language_info": {
   "codemirror_mode": {
    "name": "ipython",
    "version": 3
   },
   "file_extension": ".py",
   "mimetype": "text/x-python",
   "name": "python",
   "nbconvert_exporter": "python",
   "pygments_lexer": "ipython3",
   "version": "3.12.0"
  }
 },
 "nbformat": 4,
 "nbformat_minor": 2
}
